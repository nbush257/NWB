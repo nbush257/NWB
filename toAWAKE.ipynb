{
 "cells": [
  {
   "cell_type": "markdown",
   "metadata": {},
   "source": [
    "## 1. First set these to the file you want to process and the target of the new prepocessed file\n",
    "\n",
    "Default mode is to replace the file and save the old file as archival. \n",
    "If you provide an outname, the old file is untouched and the new file is saved to the given target.\n"
   ]
  },
  {
   "cell_type": "code",
   "execution_count": 1,
   "metadata": {},
   "outputs": [],
   "source": [
    "# Name of the input file\n",
    "concatenated_nwb = r'C:\\Users\\guru\\Desktop\\201931-20190729D1\\nwb_201931_20190729_D1\\201931_20190729_D1.nwb'\n",
    "# Name of the output file\n",
    "# If None, saves over the input concatenated file and renames the raw file as archival\n",
    "outname = None "
   ]
  },
  {
   "cell_type": "code",
   "execution_count": 2,
   "metadata": {},
   "outputs": [],
   "source": [
    "# parameters to be used by the NWB objects\n",
    "electrode_name = 'e0'\n",
    "description = 'WPI TM33A20' #'FHC_bipolar electrode'# \n",
    "location = 'Vg'\n",
    "device_name = 'AM Systems 1700 B277 modified with headstage'\n",
    "num_sites = 1.\n",
    "x=1.5\n",
    "y=0.\n",
    "z=5.9\n",
    "imp=2.0\n",
    "filtering = '300-10000 Hz'\n",
    "#motor_motion_name = 'Port_A_8_bits'\n",
    "neural_channel_name = 'Neural'"
   ]
  },
  {
   "cell_type": "code",
   "execution_count": 3,
   "metadata": {},
   "outputs": [],
   "source": [
    "import nwb_wrapper\n",
    "import pynwb\n",
    "from pynwb import NWBHDF5IO\n",
    "import numpy as np\n",
    "import awake_nwb\n",
    "import os\n",
    "data_path = os.path.split(concatenated_nwb)[0]"
   ]
  },
  {
   "cell_type": "markdown",
   "metadata": {},
   "source": [
    "### Read in the concatenated NWB"
   ]
  },
  {
   "cell_type": "code",
   "execution_count": 4,
   "metadata": {},
   "outputs": [],
   "source": [
    "io = NWBHDF5IO(concatenated_nwb,'r')\n",
    "data = io.read()"
   ]
  },
  {
   "cell_type": "markdown",
   "metadata": {},
   "source": [
    "### Set up a new output data file"
   ]
  },
  {
   "cell_type": "code",
   "execution_count": 5,
   "metadata": {},
   "outputs": [],
   "source": [
    "data_out = pynwb.NWBFile(data.session_description,\n",
    "                        data.identifier,\n",
    "                        data.session_start_time,\n",
    "                        experimenter=data.experimenter,\n",
    "                        lab=data.lab,\n",
    "                        institution=data.institution,\n",
    "                         experiment_description=data.experiment_description\n",
    "                        )"
   ]
  },
  {
   "cell_type": "markdown",
   "metadata": {},
   "source": [
    "### Create electrode and assign it the data from neural"
   ]
  },
  {
   "cell_type": "code",
   "execution_count": 6,
   "metadata": {},
   "outputs": [],
   "source": [
    "acquisition_list = [x.lower() for x in data.acquisition.keys()]\n",
    "device = data_out.create_device(name=device_name)\n",
    "\n",
    "electrode_group = data_out.create_electrode_group(electrode_name,description=description,location=location,device=device)\n",
    "data_out.add_electrode(0,\n",
    "                   x=x,\n",
    "                   y=y,\n",
    "                   z=z,\n",
    "                   imp=imp,\n",
    "                   location=location,\n",
    "                   filtering=filtering,\n",
    "                   group=electrode_group)\n",
    "\n",
    "electrode_table_region = data_out.create_electrode_table_region([0],'The only electrode')\n",
    "neural = nwb_wrapper.convert_TS_to_ES(data.get_acquisition(neural_channel_name),electrode_table_region)\n",
    "data_out.add_acquisition(neural)"
   ]
  },
  {
   "cell_type": "code",
   "execution_count": 7,
   "metadata": {},
   "outputs": [
    {
     "data": {
      "text/plain": [
       "\n",
       "Front <class 'pynwb.base.TimeSeries'>\n",
       "Fields:\n",
       "  comments: no comments\n",
       "  conversion: 1.0\n",
       "  data: <HDF5 dataset \"data\": shape (27504000,), type \"<f8\">\n",
       "  description: no description\n",
       "  interval: 1\n",
       "  num_samples: 27504000\n",
       "  resolution: 4.8828125\n",
       "  timestamps: <HDF5 dataset \"timestamps\": shape (27504000,), type \"<f8\">\n",
       "  timestamps_unit: Seconds\n",
       "  unit: mV"
      ]
     },
     "execution_count": 7,
     "metadata": {},
     "output_type": "execute_result"
    }
   ],
   "source": []
  },
  {
   "cell_type": "markdown",
   "metadata": {},
   "source": [
    "### Compute the frame times and add to the output file "
   ]
  },
  {
   "cell_type": "code",
   "execution_count": 8,
   "metadata": {},
   "outputs": [
    {
     "name": "stdout",
     "output_type": "stream",
     "text": [
      "===============\n",
      "Frame rate of camera is calculated to be 947.78 fps\n",
      "\n",
      "===============\n",
      "Frame rate of camera is calculated to be 947.78 fps\n",
      "\n",
      "===============\n",
      "Frame rate of camera is calculated to be 950.79 fps\n",
      "\n",
      "Disregard caluclated frame rate message\n"
     ]
    }
   ],
   "source": [
    "if 'sent_trig' in acquisition_list:\n",
    "    front_samps = awake_nwb.trigger_to_idx(data.get_acquisition('Front').data)\n",
    "    front_times = data.get_acquisition('Front').timestamps.value[front_samps]\n",
    "\n",
    "    top_samps = awake_nwb.trigger_to_idx(data.get_acquisition('Top').data)\n",
    "    top_times = data.get_acquisition('Top').timestamps.value[top_samps]\n",
    "\n",
    "    frame_samps = awake_nwb.trigger_to_idx(data.get_acquisition('Sent_trig').data)\n",
    "    frame_times = data.get_acquisition('Sent_trig').timestamps.value[frame_samps]\n",
    "\n",
    "    # create timeseries\n",
    "    front_trig = pynwb.TimeSeries('Front',\n",
    "                           front_samps,\n",
    "                            timestamps=front_times,\n",
    "                                  unit-=\n",
    "                           )\n",
    "    top_trig = pynwb.TimeSeries('Top',\n",
    "                           top_samps,\n",
    "                            timestamps=top_times,\n",
    "                           )\n",
    "    cam_trig = pynwb.TimeSeries('Trigger',\n",
    "                           frame_samps,\n",
    "                            timestamps=frame_times,\n",
    "                           )\n",
    "    \n",
    "    data_out.add_acquisition(front_trig)\n",
    "    data_out.add_acquisition(top_trig)\n",
    "    data_out.add_acquisition(cam_trig)\n",
    "\n",
    "    #TODO: check if front=top=sent\n",
    "else:\n",
    "    frame_samps = awake_nwb.trigger_to_idx(data.get_acquisition('Cam_trig').data)\n",
    "    frame_times = data.get_acquisition('Cam_trig').timestamps.value[frame_samps]\n",
    "    cam_trig = pynwb.TimeSeries('Trigger',\n",
    "                                frame_samps,\n",
    "                                timestamps=frame_times,\n",
    "                                unit=data.get_acquisition('Cam_trig').unit)\n",
    "    data_out.add_acquisition(cam_trig)\n",
    "    \n",
    "print('Disregard caluclated frame rate message') # Since we are concatenating across trials, this is calculating during non-recording periods too"
   ]
  },
  {
   "cell_type": "markdown",
   "metadata": {},
   "source": [
    "### Add trials that correspond to the given recordings "
   ]
  },
  {
   "cell_type": "code",
   "execution_count": 9,
   "metadata": {},
   "outputs": [],
   "source": [
    "for ii in range(len(data.trials)):\n",
    "    _,start,stop = data.trials[ii]\n",
    "    data_out.add_trial(start_time=start,stop_time=stop)"
   ]
  },
  {
   "cell_type": "markdown",
   "metadata": {},
   "source": [
    "### Save the file. If no output file was given, then save over the input and backup the input as archival"
   ]
  },
  {
   "cell_type": "code",
   "execution_count": 10,
   "metadata": {},
   "outputs": [],
   "source": [
    "io.close()\n",
    "if outname is None:\n",
    "    basename = os.path.splitext(os.path.split(concatenated_nwb)[1])[0]\n",
    "    os.rename(concatenated_nwb,os.path.join(data_path,basename+'_archive.nwb'))\n",
    "    outname=concatenated_nwb"
   ]
  },
  {
   "cell_type": "code",
   "execution_count": 11,
   "metadata": {},
   "outputs": [
    {
     "name": "stderr",
     "output_type": "stream",
     "text": [
      "C:\\Users\\guru\\Anaconda2\\envs\\nwb\\lib\\site-packages\\pynwb\\form\\build\\map.py:882: MissingRequiredWarning: attribute 'unit' for 'data' (TimeSeries)\n",
      "  warnings.warn(msg, MissingRequiredWarning)\n"
     ]
    }
   ],
   "source": [
    "with NWBHDF5IO(outname,'w') as io:\n",
    "    io.write(data_out)"
   ]
  },
  {
   "cell_type": "code",
   "execution_count": null,
   "metadata": {},
   "outputs": [],
   "source": []
  }
 ],
 "metadata": {
  "kernelspec": {
   "display_name": "Python 3",
   "language": "python",
   "name": "python3"
  },
  "language_info": {
   "codemirror_mode": {
    "name": "ipython",
    "version": 3
   },
   "file_extension": ".py",
   "mimetype": "text/x-python",
   "name": "python",
   "nbconvert_exporter": "python",
   "pygments_lexer": "ipython3",
   "version": "3.6.7"
  }
 },
 "nbformat": 4,
 "nbformat_minor": 2
}
