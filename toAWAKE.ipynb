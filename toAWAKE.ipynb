{
 "cells": [
  {
   "cell_type": "code",
   "execution_count": 1,
   "metadata": {},
   "outputs": [],
   "source": [
    "concatenated_nwb = r'C:\\Users\\guru\\Desktop\\test_nwb\\m201821_20181018_B1-00000.nwb'\n",
    "# Still missing how to get motor data"
   ]
  },
  {
   "cell_type": "code",
   "execution_count": 2,
   "metadata": {},
   "outputs": [],
   "source": [
    "electrode_name = 'e0'\n",
    "description = 'FHC_bipolar electrode'\n",
    "location = 'Vg'\n",
    "device_name = 'AM Systems 1700 B277 modified with headstage'\n",
    "num_sites = 1.\n",
    "x=1.5\n",
    "y=0.\n",
    "z=5.7\n",
    "imp=2.0\n",
    "filtering = '300-10000 Hz'\n",
    "motor_motion_name = 'Port_A_8_bits'\n",
    "neural_channel_name = 'Neural'"
   ]
  },
  {
   "cell_type": "code",
   "execution_count": 3,
   "metadata": {},
   "outputs": [
    {
     "name": "stdout",
     "output_type": "stream",
     "text": [
      "Populating the interactive namespace from numpy and matplotlib\n"
     ]
    }
   ],
   "source": [
    "import nwb_wrapper\n",
    "import pynwb\n",
    "from pynwb import NWBHDF5IO\n",
    "import numpy as np\n",
    "import awake_nwb\n",
    "%pylab qt"
   ]
  },
  {
   "cell_type": "code",
   "execution_count": 4,
   "metadata": {},
   "outputs": [
    {
     "name": "stdout",
     "output_type": "stream",
     "text": [
      "===============\n",
      "Frame rate of camera is calculated to be 742.71 fps\n",
      "\n"
     ]
    },
    {
     "name": "stderr",
     "output_type": "stream",
     "text": [
      "C:\\Users\\guru\\Anaconda2\\envs\\nwb\\lib\\site-packages\\pynwb\\form\\build\\map.py:882: MissingRequiredWarning: attribute 'unit' for 'data' (TimeSeries)\n",
      "  warnings.warn(msg, MissingRequiredWarning)\n"
     ]
    }
   ],
   "source": [
    "with NWBHDF5IO(concatenated_nwb,'r+') as io:# will want to change this to a w+ I think \n",
    "    data = io.read()\n",
    "\n",
    "    acquisition_list = [x.lower() for x in data.acquisition.keys()]\n",
    "    acquisition_list\n",
    "    device = data.create_device(name=device_name)\n",
    "\n",
    "    electrode_group = data.create_electrode_group(electrode_name,description=description,location=location,device=device)\n",
    "    data.add_electrode(0,\n",
    "                       x=x,\n",
    "                       y=y,\n",
    "                       z=z,\n",
    "                       imp=imp,\n",
    "                       location=location,\n",
    "                       filtering=filtering,\n",
    "                       group=electrode_group)\n",
    "\n",
    "    electrode_table_region = data.create_electrode_table_region([0],'The only electrode')\n",
    "    neural = nwb_wrapper.convert_TS_to_ES(data.get_acquisition(neural_channel_name),electrode_table_region)\n",
    "    data.add_acquisition(neural)\n",
    "    if 'sent_trig' in acquisition_list:\n",
    "        front_samps = awake_nwb.trigger_to_idx(data.get_acquisition('Front'))\n",
    "        front_times = data.get_acquisition('Front').timestamps.value[front_samps]\n",
    "\n",
    "        top_samps = awake_nwb.trigger_to_idx(data.get_acquisition('Top'))\n",
    "        top_times = data.get_acquisition('Top').timestamps.value[top_samps]\n",
    "\n",
    "        frame_samps = awake_nwb.trigger_to_idx(data.get_acquisition('Sent_trig'))\n",
    "        frame_times = data.get_acquisition('Sent_trig').timestamps.value[frame_samps]\n",
    "\n",
    "        # create timeseries\n",
    "        front_trig = pynwb.TimeSeries('front frame onsets',\n",
    "                               front_samps,\n",
    "                                timestamps=front_times,\n",
    "                               )\n",
    "        top_trig = pynwb.TimeSeries('top frame onsets',\n",
    "                               top_samps,\n",
    "                                timestamps=top_times,\n",
    "                               )\n",
    "        cam_trig = pynwb.TimeSeries('camera frame onsets',\n",
    "                               frame_samps,\n",
    "                                timestamps=frame_times,\n",
    "                               )\n",
    "\n",
    "        data.add_acquisition(front_trig)\n",
    "        data.add_acquisition(top_trig)\n",
    "        data.add_acquisition(cam_trig)\n",
    "\n",
    "        #TODO: check if front=top=sent\n",
    "    else:\n",
    "        frame_samps = awake_nwb.trigger_to_idx(data.get_acquisition('Cam_trig').data)\n",
    "        frame_times = data.get_acquisition('Cam_trig').timestamps.value[frame_samps]\n",
    "        cam_trig = pynwb.TimeSeries('camera frame onsets',\n",
    "                               frame_samps,\n",
    "                                timestamps=frame_times,\n",
    "                               )\n",
    "        data.add_acquisition(cam_trig)\n",
    "        io.write(data)"
   ]
  },
  {
   "cell_type": "code",
   "execution_count": 6,
   "metadata": {},
   "outputs": [
    {
     "data": {
      "text/plain": [
       "{'Cam_trig': \n",
       " Cam_trig <class 'pynwb.base.TimeSeries'>\n",
       " Fields:\n",
       "   comments: no comments\n",
       "   conversion: 1.0\n",
       "   data: <HDF5 dataset \"data\": shape (22372011,), type \"<f8\">\n",
       "   description: no description\n",
       "   interval: 1\n",
       "   num_samples: 22372011\n",
       "   resolution: 4.8828125\n",
       "   timestamps: <HDF5 dataset \"timestamps\": shape (22372011,), type \"<f8\">\n",
       "   timestamps_unit: Seconds\n",
       "   unit: mV, 'Count': \n",
       " Count <class 'pynwb.misc.AnnotationSeries'>\n",
       " Fields:\n",
       "   comments: no comments\n",
       "   conversion: 1.0\n",
       "   data: ['1' '1' '2' '1' '1' '2']\n",
       "   description: no description\n",
       "   interval: 1\n",
       "   num_samples: 6\n",
       "   resolution: -1.0\n",
       "   timestamps: <HDF5 dataset \"timestamps\": shape (6,), type \"<f8\">\n",
       "   timestamps_unit: Seconds\n",
       "   unit: n/a, 'Neural': \n",
       " Neural <class 'pynwb.base.TimeSeries'>\n",
       " Fields:\n",
       "   comments: no comments\n",
       "   conversion: 1.0\n",
       "   data: <HDF5 dataset \"data\": shape (22372011,), type \"<f8\">\n",
       "   description: no description\n",
       "   interval: 1\n",
       "   num_samples: 22372011\n",
       "   resolution: 0.6103515625\n",
       "   timestamps: <HDF5 dataset \"timestamps\": shape (22372011,), type \"<f8\">\n",
       "   timestamps_unit: Seconds\n",
       "   unit: mV, 'Port_A_8_bits': \n",
       " Port_A_8_bits <class 'pynwb.misc.AnnotationSeries'>\n",
       " Fields:\n",
       "   comments: no comments\n",
       "   conversion: 1.0\n",
       "   data: ['3173.828125' '3178.7109375' '3173.828125' ... '0' '1' '0']\n",
       "   description: no description\n",
       "   interval: 1\n",
       "   num_samples: 22372155\n",
       "   resolution: -1.0\n",
       "   timestamps: <HDF5 dataset \"timestamps\": shape (22372155,), type \"<f8\">\n",
       "   timestamps_unit: Seconds\n",
       "   unit: n/a, 'camera frame onsets': \n",
       " camera frame onsets <class 'pynwb.base.TimeSeries'>\n",
       " Fields:\n",
       "   comments: no comments\n",
       "   conversion: 1.0\n",
       "   data: <HDF5 dataset \"data\": shape (407347,), type \"<i8\">\n",
       "   description: no description\n",
       "   interval: 1\n",
       "   num_samples: 407347\n",
       "   resolution: 0.0\n",
       "   timestamps: <HDF5 dataset \"timestamps\": shape (407347,), type \"<f8\">\n",
       "   timestamps_unit: Seconds}"
      ]
     },
     "execution_count": 6,
     "metadata": {},
     "output_type": "execute_result"
    }
   ],
   "source": [
    "io = NWBHDF5IO(concatenated_nwb,'r')\n",
    "d2 = io.read()\n",
    "d2.acquisition\n",
    "    "
   ]
  },
  {
   "cell_type": "code",
   "execution_count": null,
   "metadata": {},
   "outputs": [],
   "source": []
  },
  {
   "cell_type": "code",
   "execution_count": null,
   "metadata": {},
   "outputs": [],
   "source": []
  },
  {
   "cell_type": "code",
   "execution_count": null,
   "metadata": {},
   "outputs": [],
   "source": []
  },
  {
   "cell_type": "code",
   "execution_count": null,
   "metadata": {},
   "outputs": [],
   "source": []
  },
  {
   "cell_type": "code",
   "execution_count": null,
   "metadata": {},
   "outputs": [],
   "source": []
  },
  {
   "cell_type": "code",
   "execution_count": null,
   "metadata": {},
   "outputs": [],
   "source": []
  },
  {
   "cell_type": "code",
   "execution_count": null,
   "metadata": {},
   "outputs": [],
   "source": [
    "reload(awake_nwb)"
   ]
  },
  {
   "cell_type": "code",
   "execution_count": null,
   "metadata": {},
   "outputs": [],
   "source": [
    "io.close()"
   ]
  },
  {
   "cell_type": "code",
   "execution_count": null,
   "metadata": {},
   "outputs": [],
   "source": [
    "%pylab"
   ]
  },
  {
   "cell_type": "code",
   "execution_count": null,
   "metadata": {},
   "outputs": [],
   "source": []
  }
 ],
 "metadata": {
  "kernelspec": {
   "display_name": "Python 3",
   "language": "python",
   "name": "python3"
  },
  "language_info": {
   "codemirror_mode": {
    "name": "ipython",
    "version": 3
   },
   "file_extension": ".py",
   "mimetype": "text/x-python",
   "name": "python",
   "nbconvert_exporter": "python",
   "pygments_lexer": "ipython3",
   "version": "3.6.7"
  }
 },
 "nbformat": 4,
 "nbformat_minor": 2
}
